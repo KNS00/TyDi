{
 "cells": [
  {
   "cell_type": "markdown",
   "metadata": {},
   "source": [
    "# Week 41\n",
    "Inspired by: https://huggingface.co/docs/transformers/tasks/sequence_classification\n",
    "\n",
    "The purpose of this section is to evaluate the models from previous sections by training them on one language and testing their performance on a different language. Specifically, this involves the binary classification model from Week 38 and the BERT sequence classifier from Week 39."
   ]
  },
  {
   "cell_type": "code",
   "execution_count": 1,
   "metadata": {},
   "outputs": [
    {
     "name": "stdout",
     "output_type": "stream",
     "text": [
      "Requirement already satisfied: datasets in c:\\users\\kaspe\\anaconda3\\lib\\site-packages (2.14.6)\n",
      "Requirement already satisfied: tqdm>=4.62.1 in c:\\users\\kaspe\\anaconda3\\lib\\site-packages (from datasets) (4.64.0)\n",
      "Requirement already satisfied: pandas in c:\\users\\kaspe\\anaconda3\\lib\\site-packages (from datasets) (1.4.2)\n",
      "Requirement already satisfied: xxhash in c:\\users\\kaspe\\anaconda3\\lib\\site-packages (from datasets) (3.4.1)\n",
      "Requirement already satisfied: aiohttp in c:\\users\\kaspe\\anaconda3\\lib\\site-packages (from datasets) (3.8.1)\n",
      "Requirement already satisfied: pyarrow>=8.0.0 in c:\\users\\kaspe\\anaconda3\\lib\\site-packages (from datasets) (13.0.0)\n",
      "Requirement already satisfied: requests>=2.19.0 in c:\\users\\kaspe\\anaconda3\\lib\\site-packages (from datasets) (2.27.1)\n",
      "Requirement already satisfied: dill<0.3.8,>=0.3.0 in c:\\users\\kaspe\\anaconda3\\lib\\site-packages (from datasets) (0.3.7)\n",
      "Requirement already satisfied: multiprocess in c:\\users\\kaspe\\anaconda3\\lib\\site-packages (from datasets) (0.70.15)\n",
      "Requirement already satisfied: fsspec[http]<=2023.10.0,>=2023.1.0 in c:\\users\\kaspe\\anaconda3\\lib\\site-packages (from datasets) (2023.10.0)\n",
      "Requirement already satisfied: packaging in c:\\users\\kaspe\\anaconda3\\lib\\site-packages (from datasets) (21.3)\n",
      "Requirement already satisfied: huggingface-hub<1.0.0,>=0.14.0 in c:\\users\\kaspe\\anaconda3\\lib\\site-packages (from datasets) (0.17.3)\n",
      "Requirement already satisfied: pyyaml>=5.1 in c:\\users\\kaspe\\anaconda3\\lib\\site-packages (from datasets) (6.0)\n",
      "Requirement already satisfied: numpy>=1.17 in c:\\users\\kaspe\\anaconda3\\lib\\site-packages (from datasets) (1.21.5)\n",
      "Requirement already satisfied: yarl<2.0,>=1.0 in c:\\users\\kaspe\\anaconda3\\lib\\site-packages (from aiohttp->datasets) (1.6.3)\n",
      "Requirement already satisfied: async-timeout<5.0,>=4.0.0a3 in c:\\users\\kaspe\\anaconda3\\lib\\site-packages (from aiohttp->datasets) (4.0.1)\n",
      "Requirement already satisfied: attrs>=17.3.0 in c:\\users\\kaspe\\anaconda3\\lib\\site-packages (from aiohttp->datasets) (21.4.0)\n",
      "Requirement already satisfied: frozenlist>=1.1.1 in c:\\users\\kaspe\\anaconda3\\lib\\site-packages (from aiohttp->datasets) (1.2.0)\n",
      "Requirement already satisfied: charset-normalizer<3.0,>=2.0 in c:\\users\\kaspe\\anaconda3\\lib\\site-packages (from aiohttp->datasets) (2.0.4)\n",
      "Requirement already satisfied: aiosignal>=1.1.2 in c:\\users\\kaspe\\anaconda3\\lib\\site-packages (from aiohttp->datasets) (1.2.0)\n",
      "Requirement already satisfied: multidict<7.0,>=4.5 in c:\\users\\kaspe\\anaconda3\\lib\\site-packages (from aiohttp->datasets) (5.1.0)\n",
      "Requirement already satisfied: typing-extensions>=3.6.5 in c:\\users\\kaspe\\anaconda3\\lib\\site-packages (from async-timeout<5.0,>=4.0.0a3->aiohttp->datasets) (4.8.0)\n",
      "Requirement already satisfied: filelock in c:\\users\\kaspe\\anaconda3\\lib\\site-packages (from huggingface-hub<1.0.0,>=0.14.0->datasets) (3.6.0)\n",
      "Requirement already satisfied: pyparsing!=3.0.5,>=2.0.2 in c:\\users\\kaspe\\anaconda3\\lib\\site-packages (from packaging->datasets) (3.0.4)\n",
      "Requirement already satisfied: certifi>=2017.4.17 in c:\\users\\kaspe\\anaconda3\\lib\\site-packages (from requests>=2.19.0->datasets) (2021.10.8)\n",
      "Requirement already satisfied: idna<4,>=2.5 in c:\\users\\kaspe\\anaconda3\\lib\\site-packages (from requests>=2.19.0->datasets) (2.10)\n",
      "Requirement already satisfied: urllib3<1.27,>=1.21.1 in c:\\users\\kaspe\\anaconda3\\lib\\site-packages (from requests>=2.19.0->datasets) (1.26.9)\n",
      "Requirement already satisfied: colorama in c:\\users\\kaspe\\anaconda3\\lib\\site-packages (from tqdm>=4.62.1->datasets) (0.4.6)\n",
      "Requirement already satisfied: python-dateutil>=2.8.1 in c:\\users\\kaspe\\anaconda3\\lib\\site-packages (from pandas->datasets) (2.8.2)\n",
      "Requirement already satisfied: pytz>=2020.1 in c:\\users\\kaspe\\anaconda3\\lib\\site-packages (from pandas->datasets) (2021.3)\n",
      "Requirement already satisfied: six>=1.5 in c:\\users\\kaspe\\anaconda3\\lib\\site-packages (from python-dateutil>=2.8.1->pandas->datasets) (1.16.0)\n",
      "Note: you may need to restart the kernel to use updated packages.\n",
      "Requirement already satisfied: googletrans==3.1.0a0 in c:\\users\\kaspe\\anaconda3\\lib\\site-packages (3.1.0a0)Note: you may need to restart the kernel to use updated packages.\n",
      "Requirement already satisfied: httpx==0.13.3 in c:\\users\\kaspe\\anaconda3\\lib\\site-packages (from googletrans==3.1.0a0) (0.13.3)\n",
      "Requirement already satisfied: httpcore==0.9.* in c:\\users\\kaspe\\anaconda3\\lib\\site-packages (from httpx==0.13.3->googletrans==3.1.0a0) (0.9.1)\n",
      "Requirement already satisfied: sniffio in c:\\users\\kaspe\\anaconda3\\lib\\site-packages (from httpx==0.13.3->googletrans==3.1.0a0) (1.2.0)\n",
      "Requirement already satisfied: hstspreload in c:\\users\\kaspe\\anaconda3\\lib\\site-packages (from httpx==0.13.3->googletrans==3.1.0a0) (2023.1.1)\n",
      "Requirement already satisfied: chardet==3.* in c:\\users\\kaspe\\anaconda3\\lib\\site-packages (from httpx==0.13.3->googletrans==3.1.0a0) (3.0.4)\n",
      "Requirement already satisfied: certifi in c:\\users\\kaspe\\anaconda3\\lib\\site-packages (from httpx==0.13.3->googletrans==3.1.0a0) (2021.10.8)\n",
      "Requirement already satisfied: idna==2.* in c:\\users\\kaspe\\anaconda3\\lib\\site-packages (from httpx==0.13.3->googletrans==3.1.0a0) (2.10)\n",
      "Requirement already satisfied: rfc3986<2,>=1.3 in c:\\users\\kaspe\\anaconda3\\lib\\site-packages (from httpx==0.13.3->googletrans==3.1.0a0) (1.5.0)\n",
      "Requirement already satisfied: h2==3.* in c:\\users\\kaspe\\anaconda3\\lib\\site-packages (from httpcore==0.9.*->httpx==0.13.3->googletrans==3.1.0a0) (3.2.0)\n",
      "\n",
      "Requirement already satisfied: h11<0.10,>=0.8 in c:\\users\\kaspe\\anaconda3\\lib\\site-packages (from httpcore==0.9.*->httpx==0.13.3->googletrans==3.1.0a0) (0.9.0)\n",
      "Requirement already satisfied: hpack<4,>=3.0 in c:\\users\\kaspe\\anaconda3\\lib\\site-packages (from h2==3.*->httpcore==0.9.*->httpx==0.13.3->googletrans==3.1.0a0) (3.0.0)\n",
      "Requirement already satisfied: hyperframe<6,>=5.2.0 in c:\\users\\kaspe\\anaconda3\\lib\\site-packages (from h2==3.*->httpcore==0.9.*->httpx==0.13.3->googletrans==3.1.0a0) (5.2.0)\n",
      "Requirement already satisfied: spicy in c:\\users\\kaspe\\anaconda3\\lib\\site-packages (0.16.0)\n",
      "Requirement already satisfied: scipy in c:\\users\\kaspe\\anaconda3\\lib\\site-packages (from spicy) (1.7.3)\n",
      "Requirement already satisfied: numpy<1.23.0,>=1.16.5 in c:\\users\\kaspe\\anaconda3\\lib\\site-packages (from scipy->spicy) (1.21.5)\n",
      "Note: you may need to restart the kernel to use updated packages.\n",
      "Requirement already satisfied: accelerate in c:\\users\\kaspe\\anaconda3\\lib\\site-packages (0.24.1)Note: you may need to restart the kernel to use updated packages.\n",
      "Requirement already satisfied: huggingface-hub in c:\\users\\kaspe\\anaconda3\\lib\\site-packages (from accelerate) (0.17.3)\n",
      "Requirement already satisfied: packaging>=20.0 in c:\\users\\kaspe\\anaconda3\\lib\\site-packages (from accelerate) (21.3)\n",
      "Requirement already satisfied: psutil in c:\\users\\kaspe\\anaconda3\\lib\\site-packages (from accelerate) (5.8.0)\n",
      "Requirement already satisfied: numpy>=1.17 in c:\\users\\kaspe\\anaconda3\\lib\\site-packages (from accelerate) (1.21.5)\n",
      "Requirement already satisfied: torch>=1.10.0 in c:\\users\\kaspe\\anaconda3\\lib\\site-packages (from accelerate) (2.1.0+cu121)\n",
      "Requirement already satisfied: pyyaml in c:\\users\\kaspe\\anaconda3\\lib\\site-packages (from accelerate) (6.0)\n",
      "Requirement already satisfied: pyparsing!=3.0.5,>=2.0.2 in c:\\users\\kaspe\\anaconda3\\lib\\site-packages (from packaging>=20.0->accelerate) (3.0.4)\n",
      "Requirement already satisfied: jinja2 in c:\\users\\kaspe\\anaconda3\\lib\\site-packages (from torch>=1.10.0->accelerate) (2.11.3)\n",
      "Requirement already satisfied: filelock in c:\\users\\kaspe\\anaconda3\\lib\\site-packages (from torch>=1.10.0->accelerate) (3.6.0)\n",
      "Requirement already satisfied: networkx in c:\\users\\kaspe\\anaconda3\\lib\\site-packages (from torch>=1.10.0->accelerate) (2.7.1)\n",
      "Requirement already satisfied: typing-extensions in c:\\users\\kaspe\\anaconda3\\lib\\site-packages (from torch>=1.10.0->accelerate) (4.8.0)\n",
      "Requirement already satisfied: fsspec in c:\\users\\kaspe\\anaconda3\\lib\\site-packages (from torch>=1.10.0->accelerate) (2023.10.0)\n",
      "Requirement already satisfied: sympy in c:\\users\\kaspe\\anaconda3\\lib\\site-packages (from torch>=1.10.0->accelerate) (1.10.1)\n",
      "Requirement already satisfied: requests in c:\\users\\kaspe\\anaconda3\\lib\\site-packages (from huggingface-hub->accelerate) (2.27.1)\n",
      "Requirement already satisfied: tqdm>=4.42.1 in c:\\users\\kaspe\\anaconda3\\lib\\site-packages (from huggingface-hub->accelerate) (4.64.0)\n",
      "Requirement already satisfied: colorama in c:\\users\\kaspe\\anaconda3\\lib\\site-packages (from tqdm>=4.42.1->huggingface-hub->accelerate) (0.4.6)\n",
      "Requirement already satisfied: MarkupSafe>=0.23 in c:\\users\\kaspe\\anaconda3\\lib\\site-packages (from jinja2->torch>=1.10.0->accelerate) (2.0.1)\n",
      "Requirement already satisfied: certifi>=2017.4.17 in c:\\users\\kaspe\\anaconda3\\lib\\site-packages (from requests->huggingface-hub->accelerate) (2021.10.8)\n",
      "Requirement already satisfied: charset-normalizer~=2.0.0 in c:\\users\\kaspe\\anaconda3\\lib\\site-packages (from requests->huggingface-hub->accelerate) (2.0.4)\n",
      "Requirement already satisfied: idna<4,>=2.5 in c:\\users\\kaspe\\anaconda3\\lib\\site-packages (from requests->huggingface-hub->accelerate) (2.10)\n",
      "Requirement already satisfied: urllib3<1.27,>=1.21.1 in c:\\users\\kaspe\\anaconda3\\lib\\site-packages (from requests->huggingface-hub->accelerate) (1.26.9)\n",
      "Requirement already satisfied: mpmath>=0.19 in c:\\users\\kaspe\\anaconda3\\lib\\site-packages (from sympy->torch>=1.10.0->accelerate) (1.2.1)\n",
      "\n",
      "Requirement already satisfied: transformers[torch] in c:\\users\\kaspe\\anaconda3\\lib\\site-packages (4.34.1)\n",
      "Requirement already satisfied: filelock in c:\\users\\kaspe\\anaconda3\\lib\\site-packages (from transformers[torch]) (3.6.0)\n",
      "Requirement already satisfied: pyyaml>=5.1 in c:\\users\\kaspe\\anaconda3\\lib\\site-packages (from transformers[torch]) (6.0)\n",
      "Requirement already satisfied: tqdm>=4.27 in c:\\users\\kaspe\\anaconda3\\lib\\site-packages (from transformers[torch]) (4.64.0)\n",
      "Requirement already satisfied: requests in c:\\users\\kaspe\\anaconda3\\lib\\site-packages (from transformers[torch]) (2.27.1)\n",
      "Requirement already satisfied: tokenizers<0.15,>=0.14 in c:\\users\\kaspe\\anaconda3\\lib\\site-packages (from transformers[torch]) (0.14.1)\n",
      "Requirement already satisfied: regex!=2019.12.17 in c:\\users\\kaspe\\anaconda3\\lib\\site-packages (from transformers[torch]) (2022.3.15)\n",
      "Requirement already satisfied: safetensors>=0.3.1 in c:\\users\\kaspe\\anaconda3\\lib\\site-packages (from transformers[torch]) (0.4.0)\n",
      "Requirement already satisfied: numpy>=1.17 in c:\\users\\kaspe\\anaconda3\\lib\\site-packages (from transformers[torch]) (1.21.5)\n",
      "Requirement already satisfied: packaging>=20.0 in c:\\users\\kaspe\\anaconda3\\lib\\site-packages (from transformers[torch]) (21.3)\n",
      "Requirement already satisfied: huggingface-hub<1.0,>=0.16.4 in c:\\users\\kaspe\\anaconda3\\lib\\site-packages (from transformers[torch]) (0.17.3)\n",
      "Requirement already satisfied: torch!=1.12.0,>=1.10 in c:\\users\\kaspe\\anaconda3\\lib\\site-packages (from transformers[torch]) (2.1.0+cu121)\n",
      "Requirement already satisfied: accelerate>=0.20.3 in c:\\users\\kaspe\\anaconda3\\lib\\site-packages (from transformers[torch]) (0.24.1)\n",
      "Requirement already satisfied: psutil in c:\\users\\kaspe\\anaconda3\\lib\\site-packages (from accelerate>=0.20.3->transformers[torch]) (5.8.0)\n",
      "Requirement already satisfied: fsspec in c:\\users\\kaspe\\anaconda3\\lib\\site-packages (from huggingface-hub<1.0,>=0.16.4->transformers[torch]) (2023.10.0)\n",
      "Requirement already satisfied: typing-extensions>=3.7.4.3 in c:\\users\\kaspe\\anaconda3\\lib\\site-packages (from huggingface-hub<1.0,>=0.16.4->transformers[torch]) (4.8.0)\n",
      "Requirement already satisfied: pyparsing!=3.0.5,>=2.0.2 in c:\\users\\kaspe\\anaconda3\\lib\\site-packages (from packaging>=20.0->transformers[torch]) (3.0.4)\n",
      "Requirement already satisfied: networkx in c:\\users\\kaspe\\anaconda3\\lib\\site-packages (from torch!=1.12.0,>=1.10->transformers[torch]) (2.7.1)\n",
      "Requirement already satisfied: sympy in c:\\users\\kaspe\\anaconda3\\lib\\site-packages (from torch!=1.12.0,>=1.10->transformers[torch]) (1.10.1)\n",
      "Requirement already satisfied: jinja2 in c:\\users\\kaspe\\anaconda3\\lib\\site-packages (from torch!=1.12.0,>=1.10->transformers[torch]) (2.11.3)\n",
      "Requirement already satisfied: colorama in c:\\users\\kaspe\\anaconda3\\lib\\site-packages (from tqdm>=4.27->transformers[torch]) (0.4.6)\n",
      "Requirement already satisfied: MarkupSafe>=0.23 in c:\\users\\kaspe\\anaconda3\\lib\\site-packages (from jinja2->torch!=1.12.0,>=1.10->transformers[torch]) (2.0.1)\n",
      "Requirement already satisfied: certifi>=2017.4.17 in c:\\users\\kaspe\\anaconda3\\lib\\site-packages (from requests->transformers[torch]) (2021.10.8)\n",
      "Requirement already satisfied: idna<4,>=2.5 in c:\\users\\kaspe\\anaconda3\\lib\\site-packages (from requests->transformers[torch]) (2.10)\n",
      "Requirement already satisfied: urllib3<1.27,>=1.21.1 in c:\\users\\kaspe\\anaconda3\\lib\\site-packages (from requests->transformers[torch]) (1.26.9)\n",
      "Requirement already satisfied: charset-normalizer~=2.0.0 in c:\\users\\kaspe\\anaconda3\\lib\\site-packages (from requests->transformers[torch]) (2.0.4)\n",
      "Requirement already satisfied: mpmath>=0.19 in c:\\users\\kaspe\\anaconda3\\lib\\site-packages (from sympy->torch!=1.12.0,>=1.10->transformers[torch]) (1.2.1)\n",
      "Note: you may need to restart the kernel to use updated packages.\n"
     ]
    },
    {
     "name": "stderr",
     "output_type": "stream",
     "text": [
      "[nltk_data] Downloading package punkt to\n",
      "[nltk_data]     C:\\Users\\kaspe\\AppData\\Roaming\\nltk_data...\n",
      "[nltk_data]   Package punkt is already up-to-date!\n",
      "[nltk_data] Downloading package stopwords to\n",
      "[nltk_data]     C:\\Users\\kaspe\\AppData\\Roaming\\nltk_data...\n",
      "[nltk_data]   Package stopwords is already up-to-date!\n"
     ]
    }
   ],
   "source": [
    "%pip install datasets\n",
    "%pip install googletrans==3.1.0a0\n",
    "%pip install spicy\n",
    "%pip install accelerate -U\n",
    "%pip install transformers[torch]\n",
    "\n",
    "from googletrans import Translator\n",
    "\n",
    "\n",
    "import pandas as pd\n",
    "import copy\n",
    "import numpy as np\n",
    "import torch\n",
    "import nltk\n",
    "import string\n",
    "nltk.download('punkt')\n",
    "from datasets import load_dataset\n",
    "from tabulate import tabulate\n",
    "from googletrans import Translator\n",
    "\n",
    "# stopwords\n",
    "from nltk.corpus import stopwords\n",
    "nltk.download('stopwords')\n",
    "\n",
    "from sklearn.linear_model import LogisticRegression\n",
    "from sklearn.metrics import classification_report\n",
    "import gensim.downloader\n",
    "import spacy\n",
    "from sklearn.feature_extraction.text import CountVectorizer\n",
    "from tqdm import tqdm\n",
    "import random\n",
    "from scipy.sparse import hstack as sparse_hstack"
   ]
  },
  {
   "cell_type": "code",
   "execution_count": 2,
   "metadata": {},
   "outputs": [],
   "source": [
    "languages = ['indonesian', 'bengali', 'arabic']"
   ]
  },
  {
   "cell_type": "code",
   "execution_count": 3,
   "metadata": {},
   "outputs": [
    {
     "name": "stdout",
     "output_type": "stream",
     "text": [
      "{'indonesian': Dataset({\n",
      "    features: ['question_text', 'document_title', 'language', 'annotations', 'document_plaintext', 'document_url', 'question_words', 'answer_words', 'doc_words', 'doc_text_words', 'question_text_eng', 'doc_plaintext_eng', 'question_words_eng', 'doc_text_words_eng'],\n",
      "    num_rows: 11394\n",
      "}), 'bengali': Dataset({\n",
      "    features: ['question_text', 'document_title', 'language', 'annotations', 'document_plaintext', 'document_url', 'question_words', 'answer_words', 'doc_words', 'doc_text_words', 'question_text_eng', 'doc_plaintext_eng', 'question_words_eng', 'doc_text_words_eng'],\n",
      "    num_rows: 4779\n",
      "}), 'arabic': Dataset({\n",
      "    features: ['question_text', 'document_title', 'language', 'annotations', 'document_plaintext', 'document_url', 'question_words', 'answer_words', 'doc_words', 'doc_text_words', 'question_text_eng', 'doc_plaintext_eng', 'question_words_eng', 'doc_text_words_eng'],\n",
      "    num_rows: 29598\n",
      "})}\n",
      "{'indonesian': Dataset({\n",
      "    features: ['question_text', 'document_title', 'language', 'annotations', 'document_plaintext', 'document_url', 'question_words', 'answer_words', 'doc_words', 'doc_text_words', 'question_text_eng', 'doc_plaintext_eng', 'question_words_eng', 'doc_text_words_eng'],\n",
      "    num_rows: 1191\n",
      "}), 'bengali': Dataset({\n",
      "    features: ['question_text', 'document_title', 'language', 'annotations', 'document_plaintext', 'document_url', 'question_words', 'answer_words', 'doc_words', 'doc_text_words', 'question_text_eng', 'doc_plaintext_eng', 'question_words_eng', 'doc_text_words_eng'],\n",
      "    num_rows: 224\n",
      "}), 'arabic': Dataset({\n",
      "    features: ['question_text', 'document_title', 'language', 'annotations', 'document_plaintext', 'document_url', 'question_words', 'answer_words', 'doc_words', 'doc_text_words', 'question_text_eng', 'doc_plaintext_eng', 'question_words_eng', 'doc_text_words_eng'],\n",
      "    num_rows: 1902\n",
      "})}\n"
     ]
    }
   ],
   "source": [
    "import pickle\n",
    "file_path = 'train_set_dict.pkl'\n",
    "with open(file_path, 'rb') as file:\n",
    "    loaded_data = pickle.load(file)\n",
    "train_set_dict = loaded_data['any']\n",
    "print(train_set_dict)\n",
    "\n",
    "file_path = 'val_set_dict.pkl'\n",
    "with open(file_path, 'rb') as file:\n",
    "    loaded_data = pickle.load(file)\n",
    "val_set_dict = loaded_data['any']\n",
    "print(val_set_dict)\n"
   ]
  },
  {
   "cell_type": "markdown",
   "metadata": {},
   "source": [
    "# Logistic Regression with BPemb"
   ]
  },
  {
   "cell_type": "code",
   "execution_count": 4,
   "metadata": {},
   "outputs": [
    {
     "name": "stdout",
     "output_type": "stream",
     "text": [
      "Requirement already satisfied: bpemb in c:\\users\\kaspe\\anaconda3\\lib\\site-packages (0.3.4)\n",
      "Requirement already satisfied: tqdm in c:\\users\\kaspe\\anaconda3\\lib\\site-packages (from bpemb) (4.64.0)\n",
      "Requirement already satisfied: numpy in c:\\users\\kaspe\\anaconda3\\lib\\site-packages (from bpemb) (1.21.5)\n",
      "Requirement already satisfied: sentencepiece in c:\\users\\kaspe\\anaconda3\\lib\\site-packages (from bpemb) (0.1.99)\n",
      "Requirement already satisfied: gensim in c:\\users\\kaspe\\anaconda3\\lib\\site-packages (from bpemb) (4.1.2)\n",
      "Requirement already satisfied: requests in c:\\users\\kaspe\\anaconda3\\lib\\site-packages (from bpemb) (2.27.1)\n",
      "Requirement already satisfied: scipy>=0.18.1 in c:\\users\\kaspe\\anaconda3\\lib\\site-packages (from gensim->bpemb) (1.7.3)\n",
      "Requirement already satisfied: smart-open>=1.8.1 in c:\\users\\kaspe\\anaconda3\\lib\\site-packages (from gensim->bpemb) (6.4.0)\n",
      "Requirement already satisfied: charset-normalizer~=2.0.0 in c:\\users\\kaspe\\anaconda3\\lib\\site-packages (from requests->bpemb) (2.0.4)\n",
      "Requirement already satisfied: certifi>=2017.4.17 in c:\\users\\kaspe\\anaconda3\\lib\\site-packages (from requests->bpemb) (2021.10.8)\n",
      "Requirement already satisfied: idna<4,>=2.5 in c:\\users\\kaspe\\anaconda3\\lib\\site-packages (from requests->bpemb) (2.10)\n",
      "Requirement already satisfied: urllib3<1.27,>=1.21.1 in c:\\users\\kaspe\\anaconda3\\lib\\site-packages (from requests->bpemb) (1.26.9)\n",
      "Requirement already satisfied: colorama in c:\\users\\kaspe\\anaconda3\\lib\\site-packages (from tqdm->bpemb) (0.4.6)\n"
     ]
    }
   ],
   "source": [
    "!pip install bpemb\n",
    "from bpemb import BPEmb"
   ]
  },
  {
   "cell_type": "code",
   "execution_count": 13,
   "metadata": {},
   "outputs": [],
   "source": [
    "def run_classifier(X_train, y_train, X_test, y_test):\n",
    "  # Define hyperparams for search\n",
    "  # C = np.logspace(-6, 2, 50)\n",
    "  # warm_start = [False, True]\n",
    "  # class_weight = ['balanced', None]\n",
    "\n",
    "  # hp = {\"C\": C, \"warm_start\": warm_start, 'class_weight': class_weight}\n",
    "\n",
    "  classifier = LogisticRegression(penalty='l2', max_iter=1000)\n",
    "  # classifier_random = RandomizedSearchCV(\n",
    "  #     estimator=classifier,\n",
    "  #     param_distributions=hp,\n",
    "  #     n_iter=100,\n",
    "  #     cv=5,\n",
    "  #     verbose=2,\n",
    "  #     random_state=1000,\n",
    "  #     n_jobs=-1,\n",
    "  #     scoring='f1'\n",
    "  # )\n",
    "\n",
    "  # classifier_random.fit(X_train, y_train)\n",
    "  # print(classifier_random.best_params_)\n",
    "  # print(classifier_random.best_score_)\n",
    "  # model = classifier_random.best_estimator_\n",
    "  classifier.fit(X_train,y_train)\n",
    "  preds = classifier.predict(X_test)\n",
    "  print(classification_report(y_test, preds))\n"
   ]
  },
  {
   "cell_type": "code",
   "execution_count": 28,
   "metadata": {},
   "outputs": [],
   "source": [
    "bpemb_id = BPEmb(lang='id', dim=100, vs=25000)\n",
    "bpemb_bn = BPEmb(lang='bn', dim=100, vs=25000)\n",
    "bpemb_ar = BPEmb(lang='ar', dim=100, vs=25000)\n",
    "\n",
    "bpemb_mapping = {\n",
    "    \"indonesian\": bpemb_id,\n",
    "    \"bengali\": bpemb_bn,\n",
    "    \"arabic\": bpemb_ar\n",
    "  }\n",
    "\n",
    "\n",
    "def get_bpemb_features(dataset, bpemb):\n",
    "  # With bpemb we can tokenize and embed an entire document using .embed(x)\n",
    "  X = [bpemb.embed(x).mean(0) for x in tqdm(dataset[:,0])]\n",
    "  y = list(dataset[:,1])\n",
    "  return X,y\n"
   ]
  },
  {
   "cell_type": "code",
   "execution_count": 29,
   "metadata": {},
   "outputs": [],
   "source": [
    "training_data = {\n",
    "    'indonesian': (None, None), #X_train, y_train\n",
    "    'bengali': (None, None), #X_train, y_train\n",
    "    'arabic': (None, None) #X_train, y_train\n",
    "}\n",
    "testing_data = {\n",
    "    'indonesian': (None, None), #X_test, y_test\n",
    "    'bengali': (None, None), #X_test, y_test\n",
    "    'arabic': (None, None) #X_test, y_test\n",
    "}"
   ]
  },
  {
   "cell_type": "code",
   "execution_count": 30,
   "metadata": {},
   "outputs": [
    {
     "name": "stderr",
     "output_type": "stream",
     "text": [
      "100%|██████████| 29598/29598 [00:10<00:00, 2717.11it/s]\n",
      "100%|██████████| 224/224 [00:00<00:00, 3225.79it/s]\n",
      "100%|██████████| 29598/29598 [00:10<00:00, 2785.22it/s]\n",
      "100%|██████████| 224/224 [00:00<00:00, 2640.99it/s]\n",
      "100%|██████████| 29598/29598 [00:10<00:00, 2809.21it/s]\n",
      "100%|██████████| 224/224 [00:00<00:00, 3421.35it/s]\n"
     ]
    }
   ],
   "source": [
    "training_data = {}\n",
    "testing_data = {}\n",
    "\n",
    "for lang in languages:\n",
    "    X_train = [item['question_text'] + ' [SEP] ' + item['document_plaintext'] for item in train_data]\n",
    "    X_test = [item['question_text'] + ' [SEP] ' + item['document_plaintext'] for item in test_data]\n",
    "    \n",
    "    # Get the appropriate bpemb model for the current language\n",
    "    bpemb_model = bpemb_mapping[lang]\n",
    "    \n",
    "    X_train, y_train = get_bpemb_features(np.transpose((X_train, y_train)), bpemb_model)\n",
    "    X_test, y_test = get_bpemb_features(np.transpose((X_test, y_test)), bpemb_model)\n",
    "    \n",
    "    # Populate training_data and testing_data for the current language\n",
    "    training_data[lang] = (X_train, y_train)\n",
    "    testing_data[lang] = (X_test, y_test)\n"
   ]
  },
  {
   "cell_type": "code",
   "execution_count": null,
   "metadata": {},
   "outputs": [],
   "source": []
  },
  {
   "cell_type": "code",
   "execution_count": 19,
   "metadata": {},
   "outputs": [
    {
     "name": "stdout",
     "output_type": "stream",
     "text": [
      "Training on  indonesian  data. Testing on  bengali  data.\n"
     ]
    },
    {
     "name": "stderr",
     "output_type": "stream",
     "text": [
      "100%|██████████| 11394/11394 [00:03<00:00, 3313.17it/s]\n",
      "100%|██████████| 224/224 [00:00<00:00, 3793.08it/s]\n"
     ]
    },
    {
     "name": "stdout",
     "output_type": "stream",
     "text": [
      "              precision    recall  f1-score   support\n",
      "\n",
      "           0       0.88      0.20      0.32       112\n",
      "           1       0.55      0.97      0.70       112\n",
      "\n",
      "    accuracy                           0.58       224\n",
      "   macro avg       0.71      0.58      0.51       224\n",
      "weighted avg       0.71      0.58      0.51       224\n",
      "\n",
      "Training on  indonesian  data. Testing on  arabic  data.\n"
     ]
    },
    {
     "name": "stderr",
     "output_type": "stream",
     "text": [
      "100%|██████████| 11394/11394 [00:04<00:00, 2635.28it/s]\n",
      "100%|██████████| 1902/1902 [00:00<00:00, 3135.46it/s]\n"
     ]
    },
    {
     "name": "stdout",
     "output_type": "stream",
     "text": [
      "              precision    recall  f1-score   support\n",
      "\n",
      "           0       1.00      0.01      0.02       956\n",
      "           1       0.50      1.00      0.67       946\n",
      "\n",
      "    accuracy                           0.50      1902\n",
      "   macro avg       0.75      0.50      0.34      1902\n",
      "weighted avg       0.75      0.50      0.34      1902\n",
      "\n",
      "Training on  bengali  data. Testing on  indonesian  data.\n"
     ]
    },
    {
     "name": "stderr",
     "output_type": "stream",
     "text": [
      "100%|██████████| 4779/4779 [00:01<00:00, 2487.11it/s]\n",
      "100%|██████████| 1191/1191 [00:00<00:00, 2964.45it/s]\n",
      "c:\\Users\\kaspe\\anaconda3\\lib\\site-packages\\sklearn\\metrics\\_classification.py:1318: UndefinedMetricWarning: Precision and F-score are ill-defined and being set to 0.0 in labels with no predicted samples. Use `zero_division` parameter to control this behavior.\n",
      "  _warn_prf(average, modifier, msg_start, len(result))\n",
      "c:\\Users\\kaspe\\anaconda3\\lib\\site-packages\\sklearn\\metrics\\_classification.py:1318: UndefinedMetricWarning: Precision and F-score are ill-defined and being set to 0.0 in labels with no predicted samples. Use `zero_division` parameter to control this behavior.\n",
      "  _warn_prf(average, modifier, msg_start, len(result))\n",
      "c:\\Users\\kaspe\\anaconda3\\lib\\site-packages\\sklearn\\metrics\\_classification.py:1318: UndefinedMetricWarning: Precision and F-score are ill-defined and being set to 0.0 in labels with no predicted samples. Use `zero_division` parameter to control this behavior.\n",
      "  _warn_prf(average, modifier, msg_start, len(result))\n"
     ]
    },
    {
     "name": "stdout",
     "output_type": "stream",
     "text": [
      "              precision    recall  f1-score   support\n",
      "\n",
      "           0       0.50      1.00      0.67       597\n",
      "           1       0.00      0.00      0.00       594\n",
      "\n",
      "    accuracy                           0.50      1191\n",
      "   macro avg       0.25      0.50      0.33      1191\n",
      "weighted avg       0.25      0.50      0.33      1191\n",
      "\n",
      "Training on  bengali  data. Testing on  arabic  data.\n"
     ]
    },
    {
     "name": "stderr",
     "output_type": "stream",
     "text": [
      "100%|██████████| 4779/4779 [00:02<00:00, 2366.58it/s]\n",
      "100%|██████████| 1902/1902 [00:00<00:00, 3177.02it/s]\n"
     ]
    },
    {
     "name": "stdout",
     "output_type": "stream",
     "text": [
      "              precision    recall  f1-score   support\n",
      "\n",
      "           0       1.00      0.02      0.03       956\n",
      "           1       0.50      1.00      0.67       946\n",
      "\n",
      "    accuracy                           0.51      1902\n",
      "   macro avg       0.75      0.51      0.35      1902\n",
      "weighted avg       0.75      0.51      0.35      1902\n",
      "\n",
      "Training on  arabic  data. Testing on  indonesian  data.\n"
     ]
    },
    {
     "name": "stderr",
     "output_type": "stream",
     "text": [
      "100%|██████████| 29598/29598 [00:10<00:00, 2708.73it/s]\n",
      "100%|██████████| 1191/1191 [00:00<00:00, 2460.25it/s]\n"
     ]
    },
    {
     "name": "stdout",
     "output_type": "stream",
     "text": [
      "              precision    recall  f1-score   support\n",
      "\n",
      "           0       0.50      1.00      0.67       597\n",
      "           1       0.00      0.00      0.00       594\n",
      "\n",
      "    accuracy                           0.50      1191\n",
      "   macro avg       0.25      0.50      0.33      1191\n",
      "weighted avg       0.25      0.50      0.33      1191\n",
      "\n",
      "Training on  arabic  data. Testing on  bengali  data.\n"
     ]
    },
    {
     "name": "stderr",
     "output_type": "stream",
     "text": [
      "100%|██████████| 29598/29598 [00:10<00:00, 2717.36it/s]\n",
      "100%|██████████| 224/224 [00:00<00:00, 2894.91it/s]\n"
     ]
    },
    {
     "name": "stdout",
     "output_type": "stream",
     "text": [
      "              precision    recall  f1-score   support\n",
      "\n",
      "           0       0.60      0.69      0.64       112\n",
      "           1       0.63      0.54      0.58       112\n",
      "\n",
      "    accuracy                           0.61       224\n",
      "   macro avg       0.61      0.61      0.61       224\n",
      "weighted avg       0.61      0.61      0.61       224\n",
      "\n"
     ]
    }
   ],
   "source": [
    "for lang in languages:\n",
    "    X_train = [item['question_text'] + ' [SEP] ' + item['document_plaintext'] for item in train_data]\n",
    "    X_test = [item['question_text'] + ' [SEP] ' + item['document_plaintext'] for item in test_data]\n",
    "    X_train, y_train = get_bpemb_features(np.transpose((X_train, y_train)), bpemb_model)\n",
    "    X_test, y_test = get_bpemb_features(np.transpose((X_test, y_test)), bpemb_model)\n",
    "    \n",
    "    # Populate training_data and testing_data for the current language\n",
    "    training_data[lang] = (X_train, y_train)\n",
    "    testing_data[lang] = (X_test, y_test)\n",
    "\n",
    "for lang in languages:\n",
    "    if lang in bpemp_mapping:\n",
    "        bpemb_model = globals()[f'bpemb_{bpemp_mapping[lang]}']  # Get the corresponding BPEmb model\n",
    "    else:\n",
    "        print(f\"No BPEmb model found for language: {lang}\")\n",
    "        continue\n",
    "\n",
    "    # Split data into train and test sets\n",
    "    train_data = train_set_dict[lang]\n",
    "    \n",
    "    # Create a list of test languages other than the current language\n",
    "    test_languages = [l for l in languages if l != lang]\n",
    "    \n",
    "    for test_lang in test_languages:\n",
    "        print('Training on ', lang, ' data.', 'Testing on ', test_lang, ' data.')\n",
    "        test_data = val_set_dict[test_lang]\n",
    "        \n",
    "        y_train = [0 if not answer else 1 for answer in train_data['answer_words']]\n",
    "        y_test = [0 if not answer else 1 for answer in test_data['answer_words']]\n",
    "\n",
    "        X_train = [item['question_text'] + ' [SEP] ' + item['document_plaintext'] for item in train_data]\n",
    "        X_test = [item['question_text'] + ' [SEP] ' + item['document_plaintext'] for item in test_data]\n",
    "\n",
    "        X_train, y_train = get_bpemb_features(np.transpose((X_train, y_train)), bpemb_model)\n",
    "        X_test, y_test = get_bpemb_features(np.transpose((X_test, y_test)), bpemb_model)\n",
    "\n",
    "        # Train and test your classifier\n",
    "        run_classifier(X_train, y_train, X_test, y_test)\n",
    "\n"
   ]
  },
  {
   "cell_type": "markdown",
   "metadata": {},
   "source": [
    "# Sequence Labeller"
   ]
  },
  {
   "cell_type": "code",
   "execution_count": 3,
   "metadata": {},
   "outputs": [],
   "source": [
    "from datasets import load_dataset\n",
    "\n",
    "df = load_dataset(\"copenlu/answerable_tydiqa\")"
   ]
  },
  {
   "cell_type": "code",
   "execution_count": 4,
   "metadata": {},
   "outputs": [],
   "source": [
    "df_train_bengali = df[\"train\"].filter(lambda x: x[\"language\"] == \"bengali\")\n",
    "df_train_arab = df[\"train\"].filter(lambda x: x[\"language\"] == \"arabic\")\n",
    "df_train_indo = df[\"train\"].filter(lambda x: x[\"language\"] == \"indonesian\")\n",
    "\n",
    "#df_train_bengali = df_train_bengali.train_test_split(test_size = 0.1)['test']\n",
    "#df_train_arab = df_train_arab.train_test_split(test_size = 0.1)['test']\n",
    "#df_train_indo = df_train_indo.train_test_split(test_size = 0.1)['test']\n",
    "\n",
    "df_val_bengali = df[\"validation\"].filter(lambda x: x[\"language\"] == \"bengali\")\n",
    "df_val_arab = df[\"validation\"].filter(lambda x: x[\"language\"] == \"arabic\")\n",
    "df_val_indo = df[\"validation\"].filter(lambda x: x[\"language\"] == \"indonesian\")\n",
    "\n",
    "#df_val_bengali = df_val_bengali.train_test_split(test_size = 0.1)['test']\n",
    "#df_val_arab = df_val_arab.train_test_split(test_size = 0.1)['test']\n",
    "#df_val_indo = df_val_indo.train_test_split(test_size = 0.1)['test']\n"
   ]
  },
  {
   "cell_type": "markdown",
   "metadata": {},
   "source": [
    "common functions"
   ]
  },
  {
   "cell_type": "code",
   "execution_count": 5,
   "metadata": {},
   "outputs": [],
   "source": [
    "def format(dataset):\n",
    "    result = {}\n",
    "    #Marking start of the sentence and where the question and plaintext separates\n",
    "    result['sentence'] = '[CLS] ' + dataset['question_text'] + ' [SEP] ' + dataset['document_plaintext']\n",
    "    #Where the answer starts in the document_plaintext\n",
    "    answer_start = dataset['annotations']['answer_start'][0] + len(dataset['question_text']) + len(\"[CLS] \") + len(\" [SEP] \")\n",
    "    result['answer_start'] = answer_start\n",
    "    #WHere the answer ends in the document_plaintext\n",
    "    result['answer_end'] = answer_start + len(dataset['annotations']['answer_text'][0])\n",
    "    #Where the answer starts in the document_plaintext\n",
    "    #WHere the answer ends in the document_plaintext\n",
    "    return result\n",
    "\n",
    "\n",
    "def iob(ans_ids, tokens):\n",
    "    result = []\n",
    "    for answerID, token_word in enumerate(tokens):\n",
    "        if token_word in ['[CLS]', '[SEP]']:\n",
    "            result.append(-100)\n",
    "        elif len(ans_ids) > 0 and answerID == ans_ids[0]:\n",
    "            result.append(1)\n",
    "        elif answerID in ans_ids:\n",
    "            result.append(2)\n",
    "        else:\n",
    "            result.append(0)\n",
    "    return result\n",
    "\n",
    "\n",
    "def token_iob_labels(examples):\n",
    "    sentence_tokens = tokenizer(examples[\"sentence\"], truncation=True)\n",
    "    answer_start = examples['answer_start']\n",
    "    answer_end = examples['answer_end']\n",
    "    sentence_token_id = []\n",
    "    for id in range(len(sentence_tokens.tokens())):\n",
    "        sentencespan = sentence_tokens.token_to_chars(batch_or_token_index=id)\n",
    "        if sentencespan is not None:\n",
    "            (elem1, _) = sentencespan\n",
    "            if elem1 > answer_end:\n",
    "                break\n",
    "            elif elem1 >= answer_start:\n",
    "                sentence_token_id.append(id)\n",
    "    sentence_tokens[\"labels\"] = iob(sentence_token_id, sentence_tokens.tokens())\n",
    "    sentence_tokens['text_tokens'] = sentence_tokens.tokens()\n",
    "    return sentence_tokens\n",
    "\n",
    "\n",
    "def compute_exact_match(predicted, true, replacement_value=0):\n",
    "    assert len(predicted) == len(true), \"Length of predicted and true labels must match\"\n",
    "    em = 0\n",
    "    total = len(predicted)\n",
    "\n",
    "    predicted = [[replacement_value if x == -100 else x for x in seq] for seq in predicted]\n",
    "    true = [[replacement_value if x == -100 else x for x in seq] for seq in true]\n",
    "\n",
    "    for pred_seq, true_seq in zip(predicted, true):\n",
    "        if np.array_equal(pred_seq, true_seq):\n",
    "            em += 1\n",
    "\n",
    "    em_score = em / total\n",
    "    return em_score"
   ]
  },
  {
   "cell_type": "markdown",
   "metadata": {},
   "source": [
    "making torch data\n"
   ]
  },
  {
   "cell_type": "code",
   "execution_count": 6,
   "metadata": {},
   "outputs": [
    {
     "name": "stderr",
     "output_type": "stream",
     "text": [
      "Some weights of BertForTokenClassification were not initialized from the model checkpoint at bert-base-multilingual-cased and are newly initialized: ['classifier.bias', 'classifier.weight']\n",
      "You should probably TRAIN this model on a down-stream task to be able to use it for predictions and inference.\n",
      "c:\\Users\\kaspe\\anaconda3\\lib\\site-packages\\transformers\\optimization.py:411: FutureWarning: This implementation of AdamW is deprecated and will be removed in a future version. Use the PyTorch implementation torch.optim.AdamW instead, or set `no_deprecation_warning=True` to disable this warning\n",
      "  warnings.warn(\n"
     ]
    },
    {
     "data": {
      "application/vnd.jupyter.widget-view+json": {
       "model_id": "0ff2792eb750481881a84780b6a76354",
       "version_major": 2,
       "version_minor": 0
      },
      "text/plain": [
       "Map:   0%|          | 0/4779 [00:00<?, ? examples/s]"
      ]
     },
     "metadata": {},
     "output_type": "display_data"
    },
    {
     "data": {
      "application/vnd.jupyter.widget-view+json": {
       "model_id": "94d26246df97427b98fc794a8666e849",
       "version_major": 2,
       "version_minor": 0
      },
      "text/plain": [
       "Map:   0%|          | 0/4779 [00:00<?, ? examples/s]"
      ]
     },
     "metadata": {},
     "output_type": "display_data"
    },
    {
     "data": {
      "application/vnd.jupyter.widget-view+json": {
       "model_id": "865e3b12df204c4693242e15c41da9d1",
       "version_major": 2,
       "version_minor": 0
      },
      "text/plain": [
       "Map:   0%|          | 0/29598 [00:00<?, ? examples/s]"
      ]
     },
     "metadata": {},
     "output_type": "display_data"
    },
    {
     "data": {
      "application/vnd.jupyter.widget-view+json": {
       "model_id": "c15e912baae240c18b13458762ca6cfa",
       "version_major": 2,
       "version_minor": 0
      },
      "text/plain": [
       "Map:   0%|          | 0/29598 [00:00<?, ? examples/s]"
      ]
     },
     "metadata": {},
     "output_type": "display_data"
    },
    {
     "data": {
      "application/vnd.jupyter.widget-view+json": {
       "model_id": "4adce63baa80488b8b687957fd51c526",
       "version_major": 2,
       "version_minor": 0
      },
      "text/plain": [
       "Map:   0%|          | 0/11394 [00:00<?, ? examples/s]"
      ]
     },
     "metadata": {},
     "output_type": "display_data"
    },
    {
     "data": {
      "application/vnd.jupyter.widget-view+json": {
       "model_id": "d4242065a11147bc903559dbdddc2668",
       "version_major": 2,
       "version_minor": 0
      },
      "text/plain": [
       "Map:   0%|          | 0/11394 [00:00<?, ? examples/s]"
      ]
     },
     "metadata": {},
     "output_type": "display_data"
    },
    {
     "data": {
      "application/vnd.jupyter.widget-view+json": {
       "model_id": "2fec2ee7c79648e0bf9e900d530f8bfa",
       "version_major": 2,
       "version_minor": 0
      },
      "text/plain": [
       "Map:   0%|          | 0/224 [00:00<?, ? examples/s]"
      ]
     },
     "metadata": {},
     "output_type": "display_data"
    },
    {
     "data": {
      "application/vnd.jupyter.widget-view+json": {
       "model_id": "3d71854d8a2646c0bb9dea0fd7590dec",
       "version_major": 2,
       "version_minor": 0
      },
      "text/plain": [
       "Map:   0%|          | 0/224 [00:00<?, ? examples/s]"
      ]
     },
     "metadata": {},
     "output_type": "display_data"
    },
    {
     "data": {
      "application/vnd.jupyter.widget-view+json": {
       "model_id": "fb2f554e2e764c6ebce64f23fb2e73df",
       "version_major": 2,
       "version_minor": 0
      },
      "text/plain": [
       "Map:   0%|          | 0/1902 [00:00<?, ? examples/s]"
      ]
     },
     "metadata": {},
     "output_type": "display_data"
    },
    {
     "data": {
      "application/vnd.jupyter.widget-view+json": {
       "model_id": "c71d1599c1534a399c479296d75d6c49",
       "version_major": 2,
       "version_minor": 0
      },
      "text/plain": [
       "Map:   0%|          | 0/1902 [00:00<?, ? examples/s]"
      ]
     },
     "metadata": {},
     "output_type": "display_data"
    },
    {
     "data": {
      "application/vnd.jupyter.widget-view+json": {
       "model_id": "a8d5b1e19d2046f68389ba758b630628",
       "version_major": 2,
       "version_minor": 0
      },
      "text/plain": [
       "Map:   0%|          | 0/1191 [00:00<?, ? examples/s]"
      ]
     },
     "metadata": {},
     "output_type": "display_data"
    },
    {
     "data": {
      "application/vnd.jupyter.widget-view+json": {
       "model_id": "f107b9c8ccc24d99be75e372d66ae529",
       "version_major": 2,
       "version_minor": 0
      },
      "text/plain": [
       "Map:   0%|          | 0/1191 [00:00<?, ? examples/s]"
      ]
     },
     "metadata": {},
     "output_type": "display_data"
    }
   ],
   "source": [
    "import torch\n",
    "from torch.utils.data import Dataset, DataLoader\n",
    "import transformers\n",
    "from transformers import AutoTokenizer, AutoModelForTokenClassification, DataCollatorForTokenClassification, AdamW, get_scheduler\n",
    "\n",
    "device = torch.device('cuda' if torch.cuda.is_available() else 'cpu')\n",
    "model = \"bert-base-multilingual-cased\"\n",
    "tokenizer = AutoTokenizer.from_pretrained(model)\n",
    "model_auto = AutoModelForTokenClassification.from_pretrained(model, num_labels=3)\n",
    "model_auto.to(device)\n",
    "collator = DataCollatorForTokenClassification(tokenizer=tokenizer)\n",
    "optimizer = AdamW(model_auto.parameters(), lr=2e-5)\n",
    "\n",
    "\n",
    "tokenized_train_bengali = df_train_bengali.map(format).map(\n",
    "    token_iob_labels\n",
    ")\n",
    "tokenized_train_arab = df_train_arab.map(format).map(\n",
    "    token_iob_labels\n",
    ")\n",
    "tokenized_train_indo = df_train_indo.map(format).map(\n",
    "    token_iob_labels\n",
    ")\n",
    "\n",
    "\n",
    "tokenized_val_bengali = df_val_bengali.map(format).map(\n",
    "    token_iob_labels\n",
    ")\n",
    "tokenized_val_arab = df_val_arab.map(format).map(\n",
    "    token_iob_labels\n",
    ")\n",
    "tokenized_val_indo = df_val_indo.map(format).map(\n",
    "    token_iob_labels\n",
    ")\n",
    "\n",
    "train_dataloader_bengali = DataLoader(\n",
    "    tokenized_train_bengali.remove_columns(['question_text', 'document_title', 'language', 'annotations', 'document_plaintext', 'document_url', 'sentence', 'answer_start', 'answer_end', 'text_tokens']), shuffle=True, batch_size=8, collate_fn=collator\n",
    ")\n",
    "train_dataloader_arab = DataLoader(\n",
    "    tokenized_train_arab.remove_columns(['question_text', 'document_title', 'language', 'annotations', 'document_plaintext', 'document_url', 'sentence', 'answer_start', 'answer_end', 'text_tokens']), shuffle=True, batch_size=8, collate_fn=collator\n",
    ")\n",
    "train_dataloader_indo = DataLoader(\n",
    "    tokenized_train_indo.remove_columns(['question_text', 'document_title', 'language', 'annotations', 'document_plaintext', 'document_url', 'sentence', 'answer_start', 'answer_end', 'text_tokens']), shuffle=True, batch_size=8, collate_fn=collator\n",
    ")\n",
    "\n",
    "eval_dataloader_bengali = DataLoader(\n",
    "    tokenized_val_bengali.remove_columns(['question_text', 'document_title', 'language', 'annotations', 'document_plaintext', 'document_url', 'sentence', 'answer_start', 'answer_end', 'text_tokens']), batch_size=8, collate_fn=collator\n",
    ")\n",
    "eval_dataloader_arab = DataLoader(\n",
    "    tokenized_val_arab.remove_columns(['question_text', 'document_title', 'language', 'annotations', 'document_plaintext', 'document_url', 'sentence', 'answer_start', 'answer_end', 'text_tokens']), batch_size=8, collate_fn=collator\n",
    ")\n",
    "eval_dataloader_indo = DataLoader(\n",
    "    tokenized_val_indo.remove_columns(['question_text', 'document_title', 'language', 'annotations', 'document_plaintext', 'document_url', 'sentence', 'answer_start', 'answer_end', 'text_tokens']), batch_size=8, collate_fn=collator\n",
    ")"
   ]
  },
  {
   "cell_type": "markdown",
   "metadata": {},
   "source": [
    "TRAIN = BENGALI\n",
    "TEST = {ARABIC, INDONESIAN}"
   ]
  },
  {
   "cell_type": "code",
   "execution_count": 7,
   "metadata": {},
   "outputs": [
    {
     "name": "stderr",
     "output_type": "stream",
     "text": [
      "You're using a BertTokenizerFast tokenizer. Please note that with a fast tokenizer, using the `__call__` method is faster than using a method to encode the text followed by a call to the `pad` method to get a padded encoding.\n"
     ]
    }
   ],
   "source": [
    "train_dataloader = train_dataloader_bengali\n",
    "\n",
    "epochs = 1\n",
    "num_class = 3\n",
    "\n",
    "for epoch in range(epochs):\n",
    "    for batch in train_dataloader:\n",
    "        input_ids = batch['input_ids'].to(device)\n",
    "        attention_mask = batch['attention_mask'].to(device)\n",
    "        token_type_ids = batch['token_type_ids'].to(device)\n",
    "        labels = batch['labels'].to(device)\n",
    "\n",
    "        outputs = model_auto(input_ids, attention_mask=attention_mask, token_type_ids=token_type_ids, labels=labels)\n",
    "\n",
    "        logits = outputs.get(\"logits\").to(device)\n",
    "        \n",
    "        loss = outputs.loss\n",
    "\n",
    "        loss.backward()\n",
    "        optimizer.step()\n",
    "        optimizer.zero_grad()"
   ]
  },
  {
   "cell_type": "markdown",
   "metadata": {},
   "source": [
    "test for arab"
   ]
  },
  {
   "cell_type": "code",
   "execution_count": 8,
   "metadata": {},
   "outputs": [
    {
     "name": "stderr",
     "output_type": "stream",
     "text": [
      "100%|██████████| 1902/1902 [00:42<00:00, 45.19it/s]\n"
     ]
    },
    {
     "name": "stdout",
     "output_type": "stream",
     "text": [
      "TRAIN: Bengali\n",
      "TEST: Arabic\n",
      "*********\n",
      "f1 Score: 0.2927828364863799\n"
     ]
    }
   ],
   "source": [
    "tokenized_datasets_val = tokenized_val_arab\n",
    "\n",
    "y_true_bengali_arab_flat = []\n",
    "y_pred_bengali_arab_flat = []\n",
    "y_true_bengali_arab = []\n",
    "y_pred_bengali_arab = []\n",
    "for val_data in tqdm(tokenized_datasets_val):\n",
    "  input_ids = torch.LongTensor([val_data['input_ids']]).to(device)\n",
    "  attention_mask = torch.LongTensor([val_data['attention_mask']]).to(device)\n",
    "  output = model_auto(input_ids=input_ids, attention_mask=attention_mask)\n",
    "  _, predictions = torch.max(output.logits, 2)\n",
    "  y_true_bengali_arab.append(val_data['labels'])\n",
    "  y_true_bengali_arab_flat.extend(val_data['labels'])\n",
    "  y_pred_bengali_arab.append(predictions[0].detach().cpu().numpy())\n",
    "  y_pred_bengali_arab_flat.extend(predictions[0].detach().cpu().numpy())\n",
    "\n",
    "from sklearn.metrics import precision_recall_fscore_support\n",
    "em_score_bengali_arab = compute_exact_match(y_pred_bengali_arab, y_true_bengali_arab)\n",
    "precision_bengali_arab, recall_bengali_arab, f1_bengali_arab, _ = precision_recall_fscore_support(y_true_bengali_arab_flat, y_pred_bengali_arab_flat, average='macro', zero_division=1)\n",
    "print(\"TRAIN: Bengali\")\n",
    "print(\"TEST: Arabic\")\n",
    "print(\"*********\")\n",
    "print(f\"f1 Score: {f1_bengali_arab}\")\n"
   ]
  },
  {
   "cell_type": "markdown",
   "metadata": {},
   "source": [
    "test for indonesian"
   ]
  },
  {
   "cell_type": "code",
   "execution_count": 9,
   "metadata": {},
   "outputs": [
    {
     "name": "stderr",
     "output_type": "stream",
     "text": [
      "100%|██████████| 1191/1191 [00:22<00:00, 53.58it/s]\n"
     ]
    },
    {
     "name": "stdout",
     "output_type": "stream",
     "text": [
      "TRAIN: Bengali\n",
      "TEST: Indonesian\n",
      "*********\n",
      "f1 Score: 0.29961675936233967\n"
     ]
    }
   ],
   "source": [
    "tokenized_datasets_val = tokenized_val_indo\n",
    "\n",
    "y_true_bengali_indo_flat = []\n",
    "y_pred_bengali_indo_flat = []\n",
    "y_true_bengali_indo = []\n",
    "y_pred_bengali_indo = []\n",
    "for val_data in tqdm(tokenized_datasets_val):\n",
    "  input_ids = torch.LongTensor([val_data['input_ids']]).to(device)\n",
    "  attention_mask = torch.LongTensor([val_data['attention_mask']]).to(device)\n",
    "  output = model_auto(input_ids=input_ids, attention_mask=attention_mask)\n",
    "  _, predictions = torch.max(output.logits, 2)\n",
    "  y_true_bengali_indo.append(val_data['labels'])\n",
    "  y_true_bengali_indo_flat.extend(val_data['labels'])\n",
    "  y_pred_bengali_indo.append(predictions[0].detach().cpu().numpy())\n",
    "  y_pred_bengali_indo_flat.extend(predictions[0].detach().cpu().numpy())\n",
    "\n",
    "\n",
    "em_score_bengali_indo = compute_exact_match(y_pred_bengali_indo, y_true_bengali_indo)\n",
    "precision_bengali_indo, recall_bengali_indo, f1_bengali_indo, _ = precision_recall_fscore_support(y_true_bengali_indo_flat, y_pred_bengali_indo_flat, average='macro', zero_division=1)\n",
    "print(\"TRAIN: Bengali\")\n",
    "print(\"TEST: Indonesian\")\n",
    "print(\"*********\")\n",
    "print(f\"f1 Score: {f1_bengali_indo}\")"
   ]
  },
  {
   "cell_type": "markdown",
   "metadata": {},
   "source": [
    "TRAIN = ARABIC\n",
    "TEST = {BENGALI, INDONESIAN}"
   ]
  },
  {
   "cell_type": "code",
   "execution_count": 10,
   "metadata": {},
   "outputs": [],
   "source": [
    "train_dataloader = train_dataloader_arab\n",
    "\n",
    "epochs = 1\n",
    "num_class = 3\n",
    "\n",
    "for epoch in range(epochs):\n",
    "    for batch in train_dataloader:\n",
    "        input_ids = batch['input_ids'].to(device)\n",
    "        attention_mask = batch['attention_mask'].to(device)\n",
    "        token_type_ids = batch['token_type_ids'].to(device)\n",
    "        labels = batch['labels'].to(device)\n",
    "\n",
    "        outputs = model_auto(input_ids, attention_mask=attention_mask, token_type_ids=token_type_ids, labels=labels)\n",
    "\n",
    "        logits = outputs.get(\"logits\").to(device)\n",
    "\n",
    "        loss = outputs.loss\n",
    "\n",
    "        loss.backward()\n",
    "        optimizer.step()\n",
    "        optimizer.zero_grad()"
   ]
  },
  {
   "cell_type": "markdown",
   "metadata": {},
   "source": [
    "test for bengali"
   ]
  },
  {
   "cell_type": "code",
   "execution_count": 11,
   "metadata": {},
   "outputs": [
    {
     "name": "stderr",
     "output_type": "stream",
     "text": [
      "100%|██████████| 224/224 [00:04<00:00, 50.98it/s]"
     ]
    },
    {
     "name": "stdout",
     "output_type": "stream",
     "text": [
      "TRAIN: Arabic\n",
      "TEST: Bengali\n",
      "*********\n",
      "f1 Score: 0.4435026068861112\n"
     ]
    },
    {
     "name": "stderr",
     "output_type": "stream",
     "text": [
      "\n"
     ]
    }
   ],
   "source": [
    "tokenized_datasets_val = tokenized_val_bengali\n",
    "\n",
    "y_true_arab_bengali_flat = []\n",
    "y_pred_arab_bengali_flat = []\n",
    "y_true_arab_bengali = []\n",
    "y_pred_arab_bengali = []\n",
    "for val_data in tqdm(tokenized_datasets_val):\n",
    "  input_ids = torch.LongTensor([val_data['input_ids']]).to(device)\n",
    "  attention_mask = torch.LongTensor([val_data['attention_mask']]).to(device)\n",
    "  output = model_auto(input_ids=input_ids, attention_mask=attention_mask)\n",
    "  _, predictions = torch.max(output.logits, 2)\n",
    "  y_true_arab_bengali.append(val_data['labels'])\n",
    "  y_true_arab_bengali_flat.extend(val_data['labels'])\n",
    "  y_pred_arab_bengali.append(predictions[0].detach().cpu().numpy())\n",
    "  y_pred_arab_bengali_flat.extend(predictions[0].detach().cpu().numpy())\n",
    "\n",
    "em_score_arab_bengali = compute_exact_match(y_pred_arab_bengali, y_true_arab_bengali)\n",
    "precision_arab_bengali, recall_arab_bengali, f1_arab_bengali, _ = precision_recall_fscore_support(y_true_arab_bengali_flat, y_pred_arab_bengali_flat, average='macro', zero_division=1)\n",
    "print(\"TRAIN: Arabic\")\n",
    "print(\"TEST: Bengali\")\n",
    "print(\"*********\")\n",
    "print(f\"f1 Score: {f1_arab_bengali}\")"
   ]
  },
  {
   "cell_type": "markdown",
   "metadata": {},
   "source": [
    "test for indonesian"
   ]
  },
  {
   "cell_type": "code",
   "execution_count": 12,
   "metadata": {},
   "outputs": [
    {
     "name": "stderr",
     "output_type": "stream",
     "text": [
      "100%|██████████| 1191/1191 [00:16<00:00, 72.98it/s]\n"
     ]
    },
    {
     "name": "stdout",
     "output_type": "stream",
     "text": [
      "TRAIN: Arabic\n",
      "TEST: Indonesian\n",
      "*********\n",
      "f1 Score: 0.4739948627851678\n"
     ]
    }
   ],
   "source": [
    "tokenized_datasets_val = tokenized_val_indo\n",
    "\n",
    "y_true_arab_indo_flat = []\n",
    "y_pred_arab_indo_flat = []\n",
    "y_true_arab_indo = []\n",
    "y_pred_arab_indo = []\n",
    "for val_data in tqdm(tokenized_datasets_val):\n",
    "  input_ids = torch.LongTensor([val_data['input_ids']]).to(device)\n",
    "  attention_mask = torch.LongTensor([val_data['attention_mask']]).to(device)\n",
    "  output = model_auto(input_ids=input_ids, attention_mask=attention_mask)\n",
    "  _, predictions = torch.max(output.logits, 2)\n",
    "  y_true_arab_indo.append(val_data['labels'])\n",
    "  y_true_arab_indo_flat.extend(val_data['labels'])\n",
    "  y_pred_arab_indo.append(predictions[0].detach().cpu().numpy())\n",
    "  y_pred_arab_indo_flat.extend(predictions[0].detach().cpu().numpy())\n",
    "\n",
    "em_score_arab_indo = compute_exact_match(y_pred_arab_indo, y_true_arab_indo)\n",
    "precision_arab_indo, recall_arab_indo, f1_arab_indo, _ = precision_recall_fscore_support(y_true_arab_indo_flat, y_pred_arab_indo_flat, average='macro', zero_division=1)\n",
    "print(\"TRAIN: Arabic\")\n",
    "print(\"TEST: Indonesian\")\n",
    "print(\"*********\")\n",
    "print(f\"f1 Score: {f1_arab_indo}\")"
   ]
  },
  {
   "cell_type": "markdown",
   "metadata": {},
   "source": [
    "TRAIN = INDONESIAN\n",
    "TEST = {BENGALI, ARABIC}"
   ]
  },
  {
   "cell_type": "code",
   "execution_count": 13,
   "metadata": {},
   "outputs": [],
   "source": [
    "train_dataloader = train_dataloader_indo\n",
    "\n",
    "epochs = 1\n",
    "num_class = 3\n",
    "\n",
    "for epoch in range(epochs):\n",
    "    for batch in train_dataloader:\n",
    "        input_ids = batch['input_ids'].to(device)\n",
    "        attention_mask = batch['attention_mask'].to(device)\n",
    "        token_type_ids = batch['token_type_ids'].to(device)\n",
    "        labels = batch['labels'].to(device)\n",
    "\n",
    "        outputs = model_auto(input_ids, attention_mask=attention_mask, token_type_ids=token_type_ids, labels=labels)\n",
    "\n",
    "        logits = outputs.get(\"logits\").to(device)\n",
    "\n",
    "        loss = outputs.loss\n",
    "\n",
    "        loss.backward()\n",
    "        optimizer.step()\n",
    "        optimizer.zero_grad()"
   ]
  },
  {
   "cell_type": "markdown",
   "metadata": {},
   "source": [
    "test for bengali"
   ]
  },
  {
   "cell_type": "code",
   "execution_count": 14,
   "metadata": {},
   "outputs": [
    {
     "name": "stderr",
     "output_type": "stream",
     "text": [
      "100%|██████████| 224/224 [00:04<00:00, 52.42it/s]"
     ]
    },
    {
     "name": "stdout",
     "output_type": "stream",
     "text": [
      "TRAIN: Indonesian\n",
      "TEST: Bengali\n",
      "*********\n",
      "f1 Score: 0.3637747219709783\n"
     ]
    },
    {
     "name": "stderr",
     "output_type": "stream",
     "text": [
      "\n"
     ]
    }
   ],
   "source": [
    "tokenized_datasets_val = tokenized_val_bengali\n",
    "\n",
    "y_true_indo_bengali_flat = []\n",
    "y_pred_indo_bengali_flat = []\n",
    "y_true_indo_bengali = []\n",
    "y_pred_indo_bengali = []\n",
    "for val_data in tqdm(tokenized_datasets_val):\n",
    "  input_ids = torch.LongTensor([val_data['input_ids']]).to(device)\n",
    "  attention_mask = torch.LongTensor([val_data['attention_mask']]).to(device)\n",
    "  output = model_auto(input_ids=input_ids, attention_mask=attention_mask)\n",
    "  _, predictions = torch.max(output.logits, 2)\n",
    "  y_true_indo_bengali.append(val_data['labels'])\n",
    "  y_true_indo_bengali_flat.extend(val_data['labels'])\n",
    "  y_pred_indo_bengali.append(predictions[0].detach().cpu().numpy())\n",
    "  y_pred_indo_bengali_flat.extend(predictions[0].detach().cpu().numpy())\n",
    "\n",
    "em_score_indo_bengali = compute_exact_match(y_pred_indo_bengali, y_true_indo_bengali)\n",
    "precision_indo_bengali, recall_indo_bengali, f1_indo_bengali, _ = precision_recall_fscore_support(y_true_indo_bengali_flat, y_pred_indo_bengali_flat, average='macro', zero_division=1)\n",
    "print(\"TRAIN: Indonesian\")\n",
    "print(\"TEST: Bengali\")\n",
    "print(\"*********\")\n",
    "print(f\"f1 Score: {f1_indo_bengali}\")"
   ]
  },
  {
   "cell_type": "markdown",
   "metadata": {},
   "source": [
    "test for arabic"
   ]
  },
  {
   "cell_type": "code",
   "execution_count": 15,
   "metadata": {},
   "outputs": [
    {
     "name": "stderr",
     "output_type": "stream",
     "text": [
      "100%|██████████| 1902/1902 [00:29<00:00, 64.94it/s]\n"
     ]
    },
    {
     "name": "stdout",
     "output_type": "stream",
     "text": [
      "TRAIN: Indonesian\n",
      "TEST: Arabic\n",
      "*********\n",
      "f1 Score: 0.5857687636097137\n"
     ]
    }
   ],
   "source": [
    "tokenized_datasets_val = tokenized_val_arab\n",
    "\n",
    "y_true_indo_arab_flat = []\n",
    "y_pred_indo_arab_flat = []\n",
    "y_true_indo_arab = []\n",
    "y_pred_indo_arab = []\n",
    "for val_data in tqdm(tokenized_datasets_val):\n",
    "  input_ids = torch.LongTensor([val_data['input_ids']]).to(device)\n",
    "  attention_mask = torch.LongTensor([val_data['attention_mask']]).to(device)\n",
    "  output = model_auto(input_ids=input_ids, attention_mask=attention_mask)\n",
    "  _, predictions = torch.max(output.logits, 2)\n",
    "  y_true_indo_arab.append(val_data['labels'])\n",
    "  y_true_indo_arab_flat.extend(val_data['labels'])\n",
    "  y_pred_indo_arab.append(predictions[0].detach().cpu().numpy())\n",
    "  y_pred_indo_arab_flat.extend(predictions[0].detach().cpu().numpy())\n",
    "\n",
    "em_score_indo_arab = compute_exact_match(y_pred_indo_arab, y_true_indo_arab)\n",
    "precision_indo_arab, recall_indo_arab, f1_indo_arab, _ = precision_recall_fscore_support(y_true_indo_arab_flat, y_pred_indo_arab_flat, average='macro', zero_division=1)\n",
    "print(\"TRAIN: Indonesian\")\n",
    "print(\"TEST: Arabic\")\n",
    "print(\"*********\")\n",
    "print(f\"f1 Score: {f1_indo_arab}\")"
   ]
  },
  {
   "cell_type": "markdown",
   "metadata": {},
   "source": [
    "RESULTS "
   ]
  },
  {
   "cell_type": "code",
   "execution_count": 16,
   "metadata": {},
   "outputs": [
    {
     "name": "stdout",
     "output_type": "stream",
     "text": [
      "TRAIN: Bengali\n",
      "_________________\n",
      "TEST: Arabic\n",
      "EM Score: 0.5073606729758149\n",
      "f1 Score: 0.2927828364863799\n",
      "precision Score: 0.7975031077249233\n",
      "TEST: Indonesian\n",
      "EM Score: 0.5113350125944585\n",
      "f1 Score: 0.29961675936233967\n",
      "precision Score: 0.8826712909442742\n",
      "\n",
      "\n",
      "TRAIN: Arabic\n",
      "_________________\n",
      "TEST: Bengali\n",
      "EM Score: 0.5\n",
      "f1 Score: 0.4435026068861112\n",
      "precision Score: 0.7776705417321144\n",
      "TEST: Indonesian\n",
      "EM Score: 0.5743073047858942\n",
      "f1 Score: 0.4739948627851678\n",
      "precision Score: 0.7930672177184914\n",
      "\n",
      "\n",
      "TRAIN: Indonesian\n",
      "_________________\n",
      "TEST: Bengali\n",
      "EM Score: 0.5178571428571429\n",
      "f1 Score: 0.3637747219709783\n",
      "precision Score: 0.8443946313438012\n",
      "TEST: Arabic\n",
      "EM Score: 0.6445846477392219\n",
      "f1 Score: 0.5857687636097137\n",
      "precision Score: 0.8737510100703321\n"
     ]
    }
   ],
   "source": [
    "print(\"TRAIN: Bengali\")\n",
    "print(\"_________________\")\n",
    "print(\"TEST: Arabic\")\n",
    "print(f\"EM Score: {em_score_bengali_arab}\")\n",
    "print(f\"f1 Score: {f1_bengali_arab}\")\n",
    "print(f\"precision Score: {precision_bengali_arab}\")\n",
    "print(\"TEST: Indonesian\")\n",
    "print(f\"EM Score: {em_score_bengali_indo}\")\n",
    "print(f\"f1 Score: {f1_bengali_indo}\")\n",
    "print(f\"precision Score: {precision_bengali_indo}\")\n",
    "print()\n",
    "print()\n",
    "print(\"TRAIN: Arabic\")\n",
    "print(\"_________________\")\n",
    "print(\"TEST: Bengali\")\n",
    "print(f\"EM Score: {em_score_arab_bengali}\")\n",
    "print(f\"f1 Score: {f1_arab_bengali}\")\n",
    "print(f\"precision Score: {precision_arab_bengali}\")\n",
    "print(\"TEST: Indonesian\")\n",
    "print(f\"EM Score: {em_score_arab_indo}\")\n",
    "print(f\"f1 Score: {f1_arab_indo}\")\n",
    "print(f\"precision Score: {precision_arab_indo}\")\n",
    "print()\n",
    "print()\n",
    "print(\"TRAIN: Indonesian\")\n",
    "print(\"_________________\")\n",
    "print(\"TEST: Bengali\")\n",
    "print(f\"EM Score: {em_score_indo_bengali}\")\n",
    "print(f\"f1 Score: {f1_indo_bengali}\")\n",
    "print(f\"precision Score: {precision_indo_bengali}\")\n",
    "print(\"TEST: Arabic\")\n",
    "print(f\"EM Score: {em_score_indo_arab}\")\n",
    "print(f\"f1 Score: {f1_indo_arab}\")\n",
    "print(f\"precision Score: {precision_indo_arab}\")"
   ]
  },
  {
   "cell_type": "code",
   "execution_count": null,
   "metadata": {},
   "outputs": [],
   "source": []
  }
 ],
 "metadata": {
  "colab": {
   "provenance": []
  },
  "kernelspec": {
   "display_name": "Python 3 (ipykernel)",
   "language": "python",
   "name": "python3"
  },
  "language_info": {
   "codemirror_mode": {
    "name": "ipython",
    "version": 3
   },
   "file_extension": ".py",
   "mimetype": "text/x-python",
   "name": "python",
   "nbconvert_exporter": "python",
   "pygments_lexer": "ipython3",
   "version": "3.9.12"
  }
 },
 "nbformat": 4,
 "nbformat_minor": 1
}
